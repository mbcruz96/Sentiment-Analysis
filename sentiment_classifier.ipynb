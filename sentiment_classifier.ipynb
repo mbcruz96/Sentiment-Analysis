{
 "cells": [
  {
   "cell_type": "code",
   "execution_count": 2,
   "id": "3521165c",
   "metadata": {},
   "outputs": [],
   "source": [
    "# creating train, dev, and test sets \n",
    "import sentiment_reader\n",
    "import numpy as np\n",
    "\n",
    "np.random.seed(0)\n",
    "sentiment_corpus = sentiment_reader.SentimentCorpus()"
   ]
  },
  {
   "cell_type": "code",
   "execution_count": 8,
   "id": "b5cf3906",
   "metadata": {},
   "outputs": [
    {
     "name": "stdout",
     "output_type": "stream",
     "text": [
      "400\n"
     ]
    }
   ],
   "source": [
    "print(len(sentiment_corpus.test_X) + len(sentiment_corpus.test_y))"
   ]
  },
  {
   "cell_type": "code",
   "execution_count": null,
   "id": "3abcd395",
   "metadata": {},
   "outputs": [],
   "source": []
  },
  {
   "cell_type": "code",
   "execution_count": null,
   "id": "f74eba39",
   "metadata": {},
   "outputs": [],
   "source": []
  }
 ],
 "metadata": {
  "kernelspec": {
   "display_name": "Python 3 (ipykernel)",
   "language": "python",
   "name": "python3"
  },
  "language_info": {
   "codemirror_mode": {
    "name": "ipython",
    "version": 3
   },
   "file_extension": ".py",
   "mimetype": "text/x-python",
   "name": "python",
   "nbconvert_exporter": "python",
   "pygments_lexer": "ipython3",
   "version": "3.9.13"
  }
 },
 "nbformat": 4,
 "nbformat_minor": 5
}
