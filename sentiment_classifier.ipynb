{
 "cells": [
  {
   "cell_type": "code",
   "execution_count": 1,
   "id": "3521165c",
   "metadata": {},
   "outputs": [],
   "source": [
    "# creating train, dev, and test sets \n",
    "import sentiment_reader\n",
    "import numpy as np\n",
    "\n",
    "np.random.seed(0)\n",
    "sentiment_corpus = sentiment_reader.SentimentCorpus()"
   ]
  },
  {
   "cell_type": "code",
   "execution_count": 2,
   "id": "b5cf3906",
   "metadata": {},
   "outputs": [
    {
     "data": {
      "text/plain": [
       "MLPClassifier(activation='logistic', hidden_layer_sizes=(100, 100, 100),\n",
       "              max_iter=1000)"
      ]
     },
     "execution_count": 2,
     "metadata": {},
     "output_type": "execute_result"
    }
   ],
   "source": [
    "from sklearn.neural_network import MLPClassifier\n",
    "mlp_sig1 = MLPClassifier(hidden_layer_sizes=(100), activation='logistic', max_iter=1000)\n",
    "mlp_sig1.fit(sentiment_corpus.train_X, sentiment_corpus.train_y.ravel())\n",
    "\n",
    "mlp_sig2 = MLPClassifier(hidden_layer_sizes=(100, 100), activation='logistic', max_iter=1000)\n",
    "mlp_sig2.fit(sentiment_corpus.train_X, sentiment_corpus.train_y.ravel())\n",
    "\n",
    "mlp_sig3 = MLPClassifier(hidden_layer_sizes=(100, 100, 100), activation='logistic', max_iter=1000)\n",
    "mlp_sig3.fit(sentiment_corpus.train_X, sentiment_corpus.train_y.ravel())"
   ]
  },
  {
   "cell_type": "code",
   "execution_count": 3,
   "id": "3abcd395",
   "metadata": {},
   "outputs": [
    {
     "data": {
      "text/plain": [
       "MLPClassifier(activation='tanh', hidden_layer_sizes=(100, 100, 100),\n",
       "              max_iter=1000)"
      ]
     },
     "execution_count": 3,
     "metadata": {},
     "output_type": "execute_result"
    }
   ],
   "source": [
    "mlp_tanh1 = MLPClassifier(hidden_layer_sizes=(100), activation='tanh', max_iter=1000)\n",
    "mlp_tanh1.fit(sentiment_corpus.train_X, sentiment_corpus.train_y.ravel())\n",
    "\n",
    "mlp_tanh2 = MLPClassifier(hidden_layer_sizes=(100, 100), activation='tanh', max_iter=1000)\n",
    "mlp_tanh2.fit(sentiment_corpus.train_X, sentiment_corpus.train_y.ravel())\n",
    "\n",
    "mlp_tanh3 = MLPClassifier(hidden_layer_sizes=(100, 100, 100), activation='tanh', max_iter=1000)\n",
    "mlp_tanh3.fit(sentiment_corpus.train_X, sentiment_corpus.train_y.ravel())"
   ]
  },
  {
   "cell_type": "code",
   "execution_count": 4,
   "id": "f74eba39",
   "metadata": {},
   "outputs": [
    {
     "data": {
      "text/plain": [
       "MLPClassifier(hidden_layer_sizes=(100, 100, 100), max_iter=1000)"
      ]
     },
     "execution_count": 4,
     "metadata": {},
     "output_type": "execute_result"
    }
   ],
   "source": [
    "mlp_relu1 = MLPClassifier(hidden_layer_sizes=(100), activation='relu', max_iter=1000)\n",
    "mlp_relu1.fit(sentiment_corpus.train_X, sentiment_corpus.train_y.ravel())\n",
    "\n",
    "mlp_relu2 = MLPClassifier(hidden_layer_sizes=(100, 100), activation='relu', max_iter=1000)\n",
    "mlp_relu2.fit(sentiment_corpus.train_X, sentiment_corpus.train_y.ravel())\n",
    "\n",
    "mlp_relu3 = MLPClassifier(hidden_layer_sizes=(100, 100, 100), activation='relu', max_iter=1000)\n",
    "mlp_relu3.fit(sentiment_corpus.train_X, sentiment_corpus.train_y.ravel())"
   ]
  },
  {
   "cell_type": "code",
   "execution_count": 5,
   "id": "86cd6c46",
   "metadata": {},
   "outputs": [],
   "source": [
    "prediction_sig1 = mlp_sig1.predict(sentiment_corpus.test_X)\n",
    "prediction_sig2 = mlp_sig2.predict(sentiment_corpus.test_X)\n",
    "prediction_sig3 = mlp_sig3.predict(sentiment_corpus.test_X)\n",
    "\n",
    "prediction_tanh1 = mlp_tanh1.predict(sentiment_corpus.test_X)\n",
    "prediction_tanh2 = mlp_tanh2.predict(sentiment_corpus.test_X)\n",
    "prediction_tanh3 = mlp_tanh3.predict(sentiment_corpus.test_X)\n",
    "\n",
    "prediction_relu1 = mlp_relu1.predict(sentiment_corpus.test_X)\n",
    "prediction_relu2 = mlp_relu2.predict(sentiment_corpus.test_X)\n",
    "prediction_relu3 = mlp_relu3.predict(sentiment_corpus.test_X)"
   ]
  },
  {
   "cell_type": "code",
   "execution_count": 6,
   "id": "93532cb1",
   "metadata": {},
   "outputs": [
    {
     "name": "stdout",
     "output_type": "stream",
     "text": [
      "1 layer model with Signmoid activation function: \n",
      "              precision    recall  f1-score   support\n",
      "\n",
      "           0       0.89      0.83      0.86       212\n",
      "           1       0.83      0.88      0.85       188\n",
      "\n",
      "    accuracy                           0.86       400\n",
      "   macro avg       0.86      0.86      0.86       400\n",
      "weighted avg       0.86      0.86      0.86       400\n",
      "\n",
      "2 layer model with Signmoid activation function: \n",
      "              precision    recall  f1-score   support\n",
      "\n",
      "           0       0.88      0.83      0.86       212\n",
      "           1       0.82      0.87      0.85       188\n",
      "\n",
      "    accuracy                           0.85       400\n",
      "   macro avg       0.85      0.85      0.85       400\n",
      "weighted avg       0.85      0.85      0.85       400\n",
      "\n",
      "3 layer model with Signmoid activation function: \n",
      "              precision    recall  f1-score   support\n",
      "\n",
      "           0       0.86      0.84      0.85       212\n",
      "           1       0.83      0.85      0.84       188\n",
      "\n",
      "    accuracy                           0.84       400\n",
      "   macro avg       0.84      0.85      0.84       400\n",
      "weighted avg       0.85      0.84      0.85       400\n",
      "\n",
      "1 layer model with Tanh activation function: \n",
      "              precision    recall  f1-score   support\n",
      "\n",
      "           0       0.88      0.82      0.85       212\n",
      "           1       0.81      0.87      0.84       188\n",
      "\n",
      "    accuracy                           0.84       400\n",
      "   macro avg       0.85      0.85      0.84       400\n",
      "weighted avg       0.85      0.84      0.85       400\n",
      "\n",
      "2 layer model with Tanh activation function: \n",
      "              precision    recall  f1-score   support\n",
      "\n",
      "           0       0.88      0.83      0.85       212\n",
      "           1       0.82      0.87      0.84       188\n",
      "\n",
      "    accuracy                           0.85       400\n",
      "   macro avg       0.85      0.85      0.85       400\n",
      "weighted avg       0.85      0.85      0.85       400\n",
      "\n",
      "3 layer model with Tanh activation function: \n",
      "              precision    recall  f1-score   support\n",
      "\n",
      "           0       0.87      0.80      0.83       212\n",
      "           1       0.79      0.86      0.82       188\n",
      "\n",
      "    accuracy                           0.83       400\n",
      "   macro avg       0.83      0.83      0.83       400\n",
      "weighted avg       0.83      0.83      0.83       400\n",
      "\n",
      "1 layer model with RelU activation function: \n",
      "              precision    recall  f1-score   support\n",
      "\n",
      "           0       0.89      0.83      0.86       212\n",
      "           1       0.82      0.88      0.85       188\n",
      "\n",
      "    accuracy                           0.85       400\n",
      "   macro avg       0.85      0.86      0.85       400\n",
      "weighted avg       0.86      0.85      0.86       400\n",
      "\n",
      "2 layer model with RelU activation function: \n",
      "              precision    recall  f1-score   support\n",
      "\n",
      "           0       0.86      0.83      0.84       212\n",
      "           1       0.82      0.85      0.83       188\n",
      "\n",
      "    accuracy                           0.84       400\n",
      "   macro avg       0.84      0.84      0.84       400\n",
      "weighted avg       0.84      0.84      0.84       400\n",
      "\n",
      "3 layer model with RelU activation function: \n",
      "              precision    recall  f1-score   support\n",
      "\n",
      "           0       0.90      0.82      0.85       212\n",
      "           1       0.81      0.89      0.85       188\n",
      "\n",
      "    accuracy                           0.85       400\n",
      "   macro avg       0.85      0.85      0.85       400\n",
      "weighted avg       0.86      0.85      0.85       400\n",
      "\n"
     ]
    }
   ],
   "source": [
    "from sklearn.metrics import classification_report\n",
    "print('1 layer model with Signmoid activation function: ')\n",
    "print(classification_report(sentiment_corpus.test_y, prediction_sig1))\n",
    "print('2 layer model with Signmoid activation function: ')\n",
    "print(classification_report(sentiment_corpus.test_y, prediction_sig2))\n",
    "print('3 layer model with Signmoid activation function: ')\n",
    "print(classification_report(sentiment_corpus.test_y, prediction_sig3))\n",
    "\n",
    "print('1 layer model with Tanh activation function: ')\n",
    "print(classification_report(sentiment_corpus.test_y, prediction_tanh1))\n",
    "print('2 layer model with Tanh activation function: ')\n",
    "print(classification_report(sentiment_corpus.test_y, prediction_tanh2))\n",
    "print('3 layer model with Tanh activation function: ')\n",
    "print(classification_report(sentiment_corpus.test_y, prediction_tanh3))\n",
    "\n",
    "print('1 layer model with RelU activation function: ')\n",
    "print(classification_report(sentiment_corpus.test_y, prediction_relu1))\n",
    "print('2 layer model with RelU activation function: ')\n",
    "print(classification_report(sentiment_corpus.test_y, prediction_relu2))\n",
    "print('3 layer model with RelU activation function: ')\n",
    "print(classification_report(sentiment_corpus.test_y, prediction_relu3))"
   ]
  },
  {
   "cell_type": "code",
   "execution_count": null,
   "id": "4392a99b",
   "metadata": {},
   "outputs": [],
   "source": []
  }
 ],
 "metadata": {
  "kernelspec": {
   "display_name": "Python 3 (ipykernel)",
   "language": "python",
   "name": "python3"
  },
  "language_info": {
   "codemirror_mode": {
    "name": "ipython",
    "version": 3
   },
   "file_extension": ".py",
   "mimetype": "text/x-python",
   "name": "python",
   "nbconvert_exporter": "python",
   "pygments_lexer": "ipython3",
   "version": "3.9.13"
  }
 },
 "nbformat": 4,
 "nbformat_minor": 5
}
